{
  "nbformat": 4,
  "nbformat_minor": 0,
  "metadata": {
    "colab": {
      "provenance": [],
      "authorship_tag": "ABX9TyPM0AKnrIzZ6NOg8LJCmk77",
      "include_colab_link": true
    },
    "kernelspec": {
      "name": "python3",
      "display_name": "Python 3"
    },
    "language_info": {
      "name": "python"
    }
  },
  "cells": [
    {
      "cell_type": "markdown",
      "metadata": {
        "id": "view-in-github",
        "colab_type": "text"
      },
      "source": [
        "<a href=\"https://colab.research.google.com/github/nikki2107/Project-136-Flask-API/blob/main/New136.ipynb\" target=\"_parent\"><img src=\"https://colab.research.google.com/assets/colab-badge.svg\" alt=\"Open In Colab\"/></a>"
      ]
    },
    {
      "cell_type": "code",
      "execution_count": 32,
      "metadata": {
        "colab": {
          "base_uri": "https://localhost:8080/",
          "height": 73
        },
        "id": "_Wi5jH2Re0dD",
        "outputId": "bf81f227-6509-456e-c6aa-5408745b774b"
      },
      "outputs": [
        {
          "output_type": "display_data",
          "data": {
            "text/plain": [
              "<IPython.core.display.HTML object>"
            ],
            "text/html": [
              "\n",
              "     <input type=\"file\" id=\"files-2f9c5279-840a-45c4-985b-06111b920e79\" name=\"files[]\" multiple disabled\n",
              "        style=\"border:none\" />\n",
              "     <output id=\"result-2f9c5279-840a-45c4-985b-06111b920e79\">\n",
              "      Upload widget is only available when the cell has been executed in the\n",
              "      current browser session. Please rerun this cell to enable.\n",
              "      </output>\n",
              "      <script>// Copyright 2017 Google LLC\n",
              "//\n",
              "// Licensed under the Apache License, Version 2.0 (the \"License\");\n",
              "// you may not use this file except in compliance with the License.\n",
              "// You may obtain a copy of the License at\n",
              "//\n",
              "//      http://www.apache.org/licenses/LICENSE-2.0\n",
              "//\n",
              "// Unless required by applicable law or agreed to in writing, software\n",
              "// distributed under the License is distributed on an \"AS IS\" BASIS,\n",
              "// WITHOUT WARRANTIES OR CONDITIONS OF ANY KIND, either express or implied.\n",
              "// See the License for the specific language governing permissions and\n",
              "// limitations under the License.\n",
              "\n",
              "/**\n",
              " * @fileoverview Helpers for google.colab Python module.\n",
              " */\n",
              "(function(scope) {\n",
              "function span(text, styleAttributes = {}) {\n",
              "  const element = document.createElement('span');\n",
              "  element.textContent = text;\n",
              "  for (const key of Object.keys(styleAttributes)) {\n",
              "    element.style[key] = styleAttributes[key];\n",
              "  }\n",
              "  return element;\n",
              "}\n",
              "\n",
              "// Max number of bytes which will be uploaded at a time.\n",
              "const MAX_PAYLOAD_SIZE = 100 * 1024;\n",
              "\n",
              "function _uploadFiles(inputId, outputId) {\n",
              "  const steps = uploadFilesStep(inputId, outputId);\n",
              "  const outputElement = document.getElementById(outputId);\n",
              "  // Cache steps on the outputElement to make it available for the next call\n",
              "  // to uploadFilesContinue from Python.\n",
              "  outputElement.steps = steps;\n",
              "\n",
              "  return _uploadFilesContinue(outputId);\n",
              "}\n",
              "\n",
              "// This is roughly an async generator (not supported in the browser yet),\n",
              "// where there are multiple asynchronous steps and the Python side is going\n",
              "// to poll for completion of each step.\n",
              "// This uses a Promise to block the python side on completion of each step,\n",
              "// then passes the result of the previous step as the input to the next step.\n",
              "function _uploadFilesContinue(outputId) {\n",
              "  const outputElement = document.getElementById(outputId);\n",
              "  const steps = outputElement.steps;\n",
              "\n",
              "  const next = steps.next(outputElement.lastPromiseValue);\n",
              "  return Promise.resolve(next.value.promise).then((value) => {\n",
              "    // Cache the last promise value to make it available to the next\n",
              "    // step of the generator.\n",
              "    outputElement.lastPromiseValue = value;\n",
              "    return next.value.response;\n",
              "  });\n",
              "}\n",
              "\n",
              "/**\n",
              " * Generator function which is called between each async step of the upload\n",
              " * process.\n",
              " * @param {string} inputId Element ID of the input file picker element.\n",
              " * @param {string} outputId Element ID of the output display.\n",
              " * @return {!Iterable<!Object>} Iterable of next steps.\n",
              " */\n",
              "function* uploadFilesStep(inputId, outputId) {\n",
              "  const inputElement = document.getElementById(inputId);\n",
              "  inputElement.disabled = false;\n",
              "\n",
              "  const outputElement = document.getElementById(outputId);\n",
              "  outputElement.innerHTML = '';\n",
              "\n",
              "  const pickedPromise = new Promise((resolve) => {\n",
              "    inputElement.addEventListener('change', (e) => {\n",
              "      resolve(e.target.files);\n",
              "    });\n",
              "  });\n",
              "\n",
              "  const cancel = document.createElement('button');\n",
              "  inputElement.parentElement.appendChild(cancel);\n",
              "  cancel.textContent = 'Cancel upload';\n",
              "  const cancelPromise = new Promise((resolve) => {\n",
              "    cancel.onclick = () => {\n",
              "      resolve(null);\n",
              "    };\n",
              "  });\n",
              "\n",
              "  // Wait for the user to pick the files.\n",
              "  const files = yield {\n",
              "    promise: Promise.race([pickedPromise, cancelPromise]),\n",
              "    response: {\n",
              "      action: 'starting',\n",
              "    }\n",
              "  };\n",
              "\n",
              "  cancel.remove();\n",
              "\n",
              "  // Disable the input element since further picks are not allowed.\n",
              "  inputElement.disabled = true;\n",
              "\n",
              "  if (!files) {\n",
              "    return {\n",
              "      response: {\n",
              "        action: 'complete',\n",
              "      }\n",
              "    };\n",
              "  }\n",
              "\n",
              "  for (const file of files) {\n",
              "    const li = document.createElement('li');\n",
              "    li.append(span(file.name, {fontWeight: 'bold'}));\n",
              "    li.append(span(\n",
              "        `(${file.type || 'n/a'}) - ${file.size} bytes, ` +\n",
              "        `last modified: ${\n",
              "            file.lastModifiedDate ? file.lastModifiedDate.toLocaleDateString() :\n",
              "                                    'n/a'} - `));\n",
              "    const percent = span('0% done');\n",
              "    li.appendChild(percent);\n",
              "\n",
              "    outputElement.appendChild(li);\n",
              "\n",
              "    const fileDataPromise = new Promise((resolve) => {\n",
              "      const reader = new FileReader();\n",
              "      reader.onload = (e) => {\n",
              "        resolve(e.target.result);\n",
              "      };\n",
              "      reader.readAsArrayBuffer(file);\n",
              "    });\n",
              "    // Wait for the data to be ready.\n",
              "    let fileData = yield {\n",
              "      promise: fileDataPromise,\n",
              "      response: {\n",
              "        action: 'continue',\n",
              "      }\n",
              "    };\n",
              "\n",
              "    // Use a chunked sending to avoid message size limits. See b/62115660.\n",
              "    let position = 0;\n",
              "    do {\n",
              "      const length = Math.min(fileData.byteLength - position, MAX_PAYLOAD_SIZE);\n",
              "      const chunk = new Uint8Array(fileData, position, length);\n",
              "      position += length;\n",
              "\n",
              "      const base64 = btoa(String.fromCharCode.apply(null, chunk));\n",
              "      yield {\n",
              "        response: {\n",
              "          action: 'append',\n",
              "          file: file.name,\n",
              "          data: base64,\n",
              "        },\n",
              "      };\n",
              "\n",
              "      let percentDone = fileData.byteLength === 0 ?\n",
              "          100 :\n",
              "          Math.round((position / fileData.byteLength) * 100);\n",
              "      percent.textContent = `${percentDone}% done`;\n",
              "\n",
              "    } while (position < fileData.byteLength);\n",
              "  }\n",
              "\n",
              "  // All done.\n",
              "  yield {\n",
              "    response: {\n",
              "      action: 'complete',\n",
              "    }\n",
              "  };\n",
              "}\n",
              "\n",
              "scope.google = scope.google || {};\n",
              "scope.google.colab = scope.google.colab || {};\n",
              "scope.google.colab._files = {\n",
              "  _uploadFiles,\n",
              "  _uploadFilesContinue,\n",
              "};\n",
              "})(self);\n",
              "</script> "
            ]
          },
          "metadata": {}
        },
        {
          "output_type": "stream",
          "name": "stdout",
          "text": [
            "Saving Stars_total.csv to Stars_total (2).csv\n"
          ]
        }
      ],
      "source": [
        "from google.colab import files\n",
        "d=files.upload()"
      ]
    },
    {
      "cell_type": "code",
      "source": [
        "import csv\n",
        "import pandas as pd\n",
        "\n",
        "import csv \n",
        "df=[]\n",
        "with open(\"Stars_total.csv\" , \"r\") as f:\n",
        "  csvreader = csv.reader(f)\n",
        "  for i in csvreader:\n",
        "    df.append(i)\n",
        "headers = df[0]\n",
        "data = df[1:]\n",
        "\n",
        "print(headers)\n"
      ],
      "metadata": {
        "colab": {
          "base_uri": "https://localhost:8080/"
        },
        "id": "m4oSILYkfqLS",
        "outputId": "f7cf1940-b541-46c2-99d6-0deda2ae42d5"
      },
      "execution_count": 33,
      "outputs": [
        {
          "output_type": "stream",
          "name": "stdout",
          "text": [
            "['Index', 'Star_name', 'Distance', 'Mass', 'Radius']\n"
          ]
        }
      ]
    },
    {
      "cell_type": "code",
      "source": [
        "print(data)\n"
      ],
      "metadata": {
        "colab": {
          "base_uri": "https://localhost:8080/"
        },
        "id": "f-EB0zvOikpB",
        "outputId": "343c529b-c160-48b0-d41a-2a119a6482d8"
      },
      "execution_count": 34,
      "outputs": [
        {
          "output_type": "stream",
          "name": "stdout",
          "text": [
            "[['0', 'Sun', '0.000015813', '1', '1'], ['1', 'Sirius', '8.6', '2.1', '1.71'], ['2', 'Canopus', '310', '15', '71'], ['3', 'Alpha Centauri', '4.4', '1.1', '1.2'], ['4', 'Arcturus', '37', '1.1', '26'], ['5', 'Vega', '25', '2.2', '2.7'], ['6', 'Capella', '43', '2.6', '12'], ['7', 'Rigel', '860', '23', '78.9'], ['8', 'Procyon', '11.4', '1.5', '1.9'], ['9', 'Betelgeuse', '0640[1]', '20', '950'], ['10', 'Achernar', '144', '6.7', '9.3'], ['11', 'Hadar', '390', '10.5', '8.6'], ['12', 'Altair', '17', '1.8', '1.8'], ['13', 'Acrux', '320', '18', '8.9'], ['14', 'Aldebaran', '65', '1.5', '44'], ['15', 'Antares', '600', '12', '680'], ['16', 'Spica', '260', '11.43', '7.47'], ['17', 'Pollux', '34', '1.9', '8.8'], ['18', 'Fomalhaut', '25', '1.9', '1.8'], ['19', 'Deneb', '2,600', '19', '203'], ['20', 'Mimosa', '350', '16', '8.4'], ['21', 'Regulus', '77', '3.8', '3.1'], ['22', 'Adhara', '430', '12.5', '14'], ['23', 'Shaula', '700', '14.5', '8.8'], ['24', 'Castor', '52', '2.8', '2.4'], ['25', 'Gacrux', '88', '1.5', '84'], ['26', 'Bellatrix', '240', '8.6', '5.8'], ['27', 'Elnath', '130', '5', '4.2'], ['28', 'Miaplacidus', '110', '3.5', '6.8'], ['29', 'Alnilam', '2,000', '32', '42'], ['30', 'Gamma Velorum', '1,100', '9', '6'], ['31', 'Alnair', '101', '4', '3.4'], ['32', 'Alioth', '81', '2.9', '4.2'], ['33', 'Alnitak', '1050', '33', '20'], ['34', 'Dubhe', '120', '4.25', '30'], ['35', 'Mirfak', '590', '8.5', '68'], ['36', 'Wezen', '1,600', '17', '200'], ['37', 'Sargas', '270', '5.7', '26'], ['38', 'Kaus Australis', '140', '3.5', '6.8'], ['39', 'Avior', '630', '9', '130'], ['40', 'Alkaid', '104', '6.1', '3.4'], ['41', 'Menkalinan', '81', '2.39', '2.77'], ['42', 'Atria', '390', '7', '92'], ['43', 'Alhena', '109', '2.8', '3.3'], ['44', 'Peacock', '180', '5.9', '4.8'], ['45', 'Alsephina[2]', '80', '2.4', '2.9'], ['46', 'Mirzam', '500', '13.5', '10'], ['47', 'Polaris', '430', '5.4', '39'], ['48', 'Alphard', '180', '3', '50'], ['49', 'Mintaka', '1200', '24', '16.5'], ['50', 'Scheat', '196', '2.1', '95'], ['51', 'Almaaz', '653', '15', '140'], ['52', 'Rasalgethi', '360', '2.8', '280'], ['53', 'Tau Ceti', '11.9', '0.783', '0.893'], ['54', 'Delta Pavonis', '19.92', '0.991', '1.22'], ['55', 'Ran', '10.48', '0.82', '0.74'], ['56', 'V382 Carinae', '8,900', '20', '485'], ['57', 'Eta Carinae', '7,500', '100', '60â€“881'], ['58', 'Delta Cephei', '887', '4.5', '44.5'], ['59', 'Mu Cephei', '6,000', '19.2', '972'], ['60', 'Titawin', '44.25', '1.27', '1.48'], ['61', 'Rho Cassiopeiae', '8,154', '22', '636-981'], ['62', 'P Cygni', '5,545', '30', '76'], ['63', 'VV Cephei', '4,900', '18.2', '516 - 1,050'], ['64', '61 Cygni', '11.41', '0.7', '0.665'], ['65', 'R Doradus', '178', '0.7 - 1.0', '298'], ['66', 'Polaris Australis', '281', '1.59', '3.74'], ['67', 'R Coronae Borealis', '4,566', '0.85', '85'], ['68', '54 Piscium', '36.1', '0.76', '0.94'], ['69', 'Mira', '300', '1.2', '370'], ['70', 'RW Cephei', '14,000', '13.9', '1,158'], ['71', 'Lacaille 8760', '12.87', '0.6', '0.51'], ['72', 'V838 Monocerotis', '19,896', '?', '380 - 750'], ['73', 'HD 140283', '190', '?', '1.4'], ['74', 'II Pegasi', '130', '0.8', '3.4'], ['75', 'VY Canis Majoris', '3,900', '17', '1,420'], ['76', 'Pistol Star', '25,000', '100', '320'], ['77', 'S Doradus', '169,000', '24', '380'], ['78', 'UY Scuti', '5,100', '7â€“10', '755'], ['79', \"Barnard's Star\", '5.98', '0.14', '0.2'], ['80', 'Luhman 16', '6.52', '0.04', '?'], ['81', 'Proxima Centauri', '4.25', '0.12', '0.15'], ['82', 'KIC 8462852', '1,470', '1.43', '1.58'], ['83', 'R136a1', '163,000', '290', '32'], ['84', 'Melnick 42', '163,000', '189', '21.1'], ['85', 'WR 102', '18,134', '19', '0.39'], ['86', 'VFTS 352', '164,000', '57.48', '14.47'], ['87', 'YBP 1194', '2,772', '1.01', '0.99'], ['88', 'Gliese 1214', '47.5', '0.16', '0.21'], ['89', 'NML Cygni', '5,251', '50', '1,640 - 2,770'], ['90', 'VB 10', '18.72', '0.075', '0.1'], ['91', 'WOH G64', '163,000', '<20', '1,540 - 1,730'], ['92', 'TRAPPIST-1', '39.6', '0.089', '0.12'], ['93', '2MASS J0523-1403', '40.3', '0.07', '0.086'], ['94', 'WISE 0855âˆ’0714', '7.27', '0.003', '?'], ['95', 'Icarus', '14,400,000,000', '33', '?'], ['96', 'SDSS J000013.54+255418.6\\xa0[de]', '46.1', '48', '0.99'], ['97', '2MASS J00040288-6410358', '192', '19', '1.63'], ['98', '2MASS J00242463-0158201', '37.7', '79', '1.09'], ['99', '2MASS J00274197+0503417', '236', '31', '1.44'], ['100', '2MASSW J0030300-145033', '87.2', '54', '0.98'], ['101', '2MASS J00332386-1521309\\xa0[de]', '131', '29', '1.43'], ['102', '2MASS J00345157+0523050', '31', '42', '0.94'], ['103', '2MASS 0036+1821', '28.6', '42', '0.94'], ['104', '2MASSW J0045214+163445', '57', '23', '1.62'], ['105', 'WISEP J004701.06+680352.1\\xa0[fr]', '40', '12', '1.3'], ['106', '2MASS J00501994-3322402\\xa0[de]', '34', '40', '0.94'], ['107', '2MASS J00584253-0651239\\xa0[de]', '96', '29', '1.43'], ['108', '2MASSI J0103320+193536', '70', '52', '0.98'], ['109', 'SDSSp J010752.33+004156.1\\xa0[de]', '51', '52', '0.98'], ['110', '2MASSI J0117474-340325\\xa0[de]', '163', '20', '1.62'], ['111', '2MASS J01415823-4633574\\xa0[de]', '130', '20', '1.61'], ['112', 'SDSS J015141.69+124429.6', '70', '47', '0.97'], ['113', 'SDSS J020742.48+000056.2\\xa0[de]', '111', '47', '0.97'], ['114', '2MASS J02103857-3015313', '101', '15', '1.53'], ['115', '2MASS J02340093-6442068', '155', '20', '1.62'], ['116', '2MASS J02411151-0326587\\xa0[de]', '152', '27', '1.41'], ['117', '2MASS J02431371−2453298', '35', '33', '0.99'], ['118', 'LP 771-21', '53', '78', '1.08'], ['119', \"Teegarden's star\", '12.578', '80', '1.27'], ['120', '2MASS J02535980+3206373', '184', '65', '1.9'], ['121', 'WISE J0254+0223', '24', '65', '1.9'], ['122', 'DEN 0255-4700', '16.2', '80', '0.97'], ['123', '2MASS J03185403-3421292\\xa0[de]', '45', '49', '0.97'], ['124', '2MASS J03205965+1854233', '47', '88', '1.15'], ['125', '2MASS J03231002-4631237', '192', '23', '1.66'], ['126', 'SDSS J032553.17+042540.1', '59', '45', '0.95'], ['127', '2MASS J03264225-2102057\\xa0[de]', '80', '18', '1.3'], ['128', '2MASS J03284265+2302051\\xa0[de]', '98', '54', '0.98'], ['129', '2MASS J03341218-4953322', '27', '73', '1.04'], ['130', 'LP 944-20', '20.9', '73', '1.43'], ['131', '2MASP J0345432+254023', '88', '74', '1.05'], ['132', 'Teide 1', '380', '55', '3.78'], ['133', '2MASS J03510004-0052452', '48', '102', '1.27'], ['134', '2MASS J03552337+1133437', '29.8', '20', '1.32'], ['135', '2MASS J04151954−0935066', '18.6', '30', '0.95'], ['136', '2MASS J04285096-2253227\\xa0[de]', '85', '80', '1.09'], ['137', '2MASS J04351612-1606574', '34', '100', '1.26'], ['138', '2MASS J04362788-4114465', '142', '39', '1.97'], ['139', '2MASS J04390101-2353083\\xa0[de]', '29.5', '48', '0.97'], ['140', '2MASS J04433764+0002040', '82', '22', '1.78'], ['141', '2MASS J04455387-3048204\\xa0[de]', '42', '64', '1'], ['142', '2MASS J04510093-3402150\\xa0[de]', '69', '72', '1.04'], ['143', '2MASS J05002100+0330501\\xa0[de]', '44', '64', '1'], ['144', '2MASS J05012406-0010452\\xa0[de]', '64', '21', '1.38'], ['145', '2MASS J05160945-0445499\\xa0[de]', '73', '47', '0.97'], ['146', '2MASS J0523−1403', '40', '68', '1.01'], ['147', 'SDSS J053951.99-005902.0', '41.62', '61', '1.01'], ['148', 'LSR 0602+3910\\xa0[de]', '34.6', '28', '1.41'], ['149', '2MASS J06085283-2753583', '102', '38', '1.51'], ['150', '2MASS J06244595-4521548\\xa0[de]', '39', '56', '0.99'], ['151', '2MASS J06411840-4322329\\xa0[de]', '65', '67', '1.01'], ['152', 'DENIS-P J0652197-253450\\xa0[de]', '51', '75', '1.05'], ['153', '2MASS J07075327-4900503', '60', '72', '1.03'], ['154', 'UGPS J072227.51-054031.2', '13.4', '26', '0.98'], ['155', '2MASSI J0727182+171001\\xa0[de]', '29.6', '41', '0.94'], ['156', '2MASS J07290002-3954043\\xa0[de]', '25.8', '37', '0.94'], ['157', 'SDSS J074201.41+205520.5\\xa0[de]', '49', '43', '0.94'], ['158', 'DENIS-P J0751164-253043\\xa0[de]', '55', '71', '1.03'], ['159', '2MASS J07522390+1612157', '60', '68', '2.01'], ['160', 'DENIS J081730.0-615520', '16.1', '44', '0.94'], ['161', '2MASS J08251968+2115521\\xa0[de]', '35', '52', '0.98'], ['162', 'SDSSp J083008.12+482847.4\\xa0[de]', '43', '48', '0.99'], ['163', 'LHS 2021', '55', '88', '1.15'], ['164', 'SDSS J083048.80+012831.1\\xa0[de]', '77', '46', '0.96'], ['165', '2MASSI J0835425-081923\\xa0[de]', '23.53', '62', '1'], ['166', '2MASSI J0847287-153237\\xa0[de]', '43', '64', '1'], ['167', '2MASS J08533619-0329321', '27.6', '77', '1.07'], ['168', '2MASSI J0859254-194926\\xa0[de]', '50', '50', '0.98'], ['169', '2MASSI J0937347+293142', '20', '42', '0.94'], ['170', '2MASS 0939−2448', '17.4', '32', '0.95'], ['171', '2MASS J09490860-1545485\\xa0[de]', '59', '49', '0.96'], ['172', '2MASS J10073369-4555147', '46', '44', '0.94'], ['173', '2MASSI J1010148-040649\\xa0[de]', '55', '51', '0.98'], ['174', '2MASS J10224821+5825453\\xa0[de]', '60', '27', '1.41'], ['175', '2MASSW J1036530-344138\\xa0[de]', '53', '49', '0.97'], ['176', '2MASS J1047538+212423\\xa0[de]', '34.4', '42', '0.94'], ['177', 'DEN 1048-3956', '13.15', '77', '1.07'], ['178', 'Luhman 16B', '6.516', '43', '1.02'], ['179', 'Luhman 16A', '6.516', '40', '1.01'], ['180', 'DENIS-P J1058.7−1548', '49', '64', '1'], ['181', 'TWA 28', '180', '36', '2.39'], ['182', 'Cha 110913-773444', '163', '8', '1.8'], ['183', 'SDSS J111010.01+011613.1', '63', '9', '1.24'], ['184', '2MASS J11145133−2618235', '18.2', '33', '0.96'], ['185', 'TWA 26', '137', '30', '2.2'], ['186', '2MASS J11544223-3400390\\xa0[de]', '129', '37', '1.5'], ['187', '2MASSW J1155395-372735\\xa0[de]', '31', '64', '1'], ['188', '2MASS J12074836-3900043', '217', '17', '1.71'], ['189', '2MASSI J1217110-031113\\xa0[de]', '36', '42', '0.94'], ['190', '2M 1237+6526', '45.6', '41', '0.94'], ['191', 'TWA 29', '262', '25', '2'], ['192', 'SDSSp J125453.90-012247.4\\xa0[de]', '38', '47', '0.98'], ['193', 'Kelu-1A', '61', '63', '0.98'], ['194', 'Kelu-1B', '61', '58', '0.98'], ['195', '2MASS J13204427+0409045', '101', '67', '1.01'], ['196', 'SDSSp J132629.82-003831.5\\xa0[de]', '65', '51', '0.97'], ['197', 'SDSSp J134646.45-003150.4\\xa0[de]', '48', '44', '0.94'], ['198', '2MASS J13595510-4034582', '51', '63', '1'], ['199', 'ULAS J141623.94+134836.3', '29.7', '32', '0.96'], ['200', 'SDSS J141659.78+500626.4\\xa0[de]', '149', '59', '0.99'], ['201', 'DENIS-P J142527.97-365023.4\\xa0[de]', '38', '21', '1.32'], ['202', 'LHS 2924', '38.5', '76', '1.06'], ['203', '2MASS J14392837+1929150', '47', '72', '1.03'], ['204', 'LSPM J1440+1339', '72', '92', '1.19'], ['205', '2MASS J14482563+1031590\\xa0[de]', '47', '59', '0.99'], ['206', 'CFBDSIR 1458+10A', '104', '11.1', '1.5'], ['207', 'CFBDSIR 1458+10B', '104', '9', '1.3'], ['208', 'TVLM 513-46546', '35.1', '75', '1.05'], ['209', '2MASS 1503+2525', '20.7', '44', '0.94'], ['210', 'CFBDS J150411+102717', '71', '44', '0.94'], ['211', '2MASSW J1506544+132106\\xa0[de]', '46', '69', '1.02'], ['212', '2MASS 1507−1627', '23.9', '60', '0.99'], ['213', 'TVLM 868-110639', '53', '79', '1.08'], ['214', '2MASSW J1515008+484742\\xa0[de]', '34', '57', '0.99'], ['215', '2MASSI J1526140+204341\\xa0[de]', '67', '54', '0.98'], ['216', 'DENIS-P J153941.96-052042.4\\xa0[de]', '51', '63', '1'], ['217', '2MASS J15462718-3325111\\xa0[de]', '37', '44', '0.94'], ['218', '2MASSW J1552591+294849\\xa0[de]', '68', '30', '1.43'], ['219', '2MASSW J1555157-095605\\xa0[de]', '44', '71', '1.03'], ['220', '2MASS J16150413+1340079\\xa0[de]', '48', '42', '0.94'], ['221', 'SDSSp J162414.37+002915.6\\xa0[de]', '36', '43', '0.94'], ['222', '2MASS J16262034+3925190\\xa0[de]', '110', '71', '1.03'], ['223', '2MASSW J1632291+190441\\xa0[de]', '50', '49', '0.97'], ['224', 'WISEPA J164715.59+563208.2', '28', '41', '0.94'], ['225', 'LSPM J1658+7027\\xa0[de]', '60', '73', '1.04'], ['226', '2MASSI J1726000+153819', '114', '24', '1.4'], ['227', 'SDSSp J175032.96+175903.9', '90', '47', '0.97'], ['228', '2MASS J18283572-4849046', '39', '45', '0.95'], ['229', 'LSR J1835+3259', '18.5', '77', '1.07'], ['230', '2MASSW J1841086+311727', '138', '67', '1.01'], ['231', '2MASS J18432213+4040209', '46', '96', '1.22'], ['232', '2MASS J20004841-7523070', '105', '25', '1.88'], ['233', 'SDSS J204749.61-071818.3', '65', '46', '0.96'], ['234', '2MASSI J2057540-025230', '47', '70', '1.02'], ['235', '2MASSI J2104149-103736', '62', '69', '1.02'], ['236', 'PSO J318.5−22', '80', '6.5', '1.53'], ['237', 'HB 2124-4228', '113', '94', '1.21'], ['238', '2MASS J21392676+0220226', '32.1', '46', '0.96'], ['239', '2MASS J21481628+4003593', '26.3', '55', '0.99'], ['240', '2MASSW J2206450-421721', '93', '22', '1.33'], ['241', '2MASSW J2208136+292121', '154', '27', '1.41'], ['242', '2MASSW J2224438-015852', '38', '61', '0.99'], ['243', '2MASS J22282889-4310262', '35', '42', '0.94'], ['244', '2MASS J22373255+3922398', '64', '73', '1.04'], ['245', '2MASSW J2244316+204343', '56', '12', '1.29'], ['246', '2MASS J23224684-3133231', '56', '24', '1.39'], ['247', '2MASS J23225299-6151275', '148', '17', '1.59'], ['248', '2MASS J23515044-2537367', '67', '88', '1.16'], ['249', '2MASSI J2356547-155310', '74', '80', '1.09'], ['250', 'WISE 0410+1502', '20', '6', '1.17'], ['251', 'WISE 0458+6434A', '35.9', '15', '4.2'], ['252', 'WISE 0458+6434B', '35.9', '10', '3.8'], ['253', 'WISE 1405+5534', '25.3', '30', '0.86']]\n"
          ]
        }
      ]
    },
    {
      "cell_type": "code",
      "source": [
        "Star_name = data[1]\n",
        "Distance = data[2]\n",
        "Mass = data[3]\n",
        "Radius = data[4]"
      ],
      "metadata": {
        "id": "fq3Z_61M1BNg"
      },
      "execution_count": 35,
      "outputs": []
    },
    {
      "cell_type": "code",
      "source": [
        "final_dict = {}\n",
        "for i, data in enumerate(data):\n",
        "  features_list=[]\n",
        "  \n",
        "  features_list.append(\"Name\")\n",
        "  \n",
        "  features_list.append(\"Distance\")\n",
        "  \n",
        "  features_list.append(\"Mass\")\n",
        "  \n",
        "  features_list.append(\"Radius\")\n",
        "final_dict[data[1]] = features_list\n",
        "print(final_dict)\n"
      ],
      "metadata": {
        "colab": {
          "base_uri": "https://localhost:8080/"
        },
        "id": "mI2RidzHpQ8P",
        "outputId": "0b94c4a5-698f-4d7a-f80a-46ff9438b21a"
      },
      "execution_count": 36,
      "outputs": [
        {
          "output_type": "stream",
          "name": "stdout",
          "text": [
            "{'WISE 1405+5534': ['Name', 'Distance', 'Mass', 'Radius']}\n"
          ]
        }
      ]
    },
    {
      "cell_type": "code",
      "source": [
        "final_star_list = []\n",
        "for i, data in enumerate(data):\n",
        "  temp_dict={\n",
        "      \"Star_name\" : data[1],\n",
        "      \"Distance\" : data[2],\n",
        "      \"Mass\" : data[3],\n",
        "      \"Radius\" : data[4]\n",
        "  }\n",
        "final_star_list.append(temp_dict)\n",
        "\n",
        "print(final_star_list)"
      ],
      "metadata": {
        "colab": {
          "base_uri": "https://localhost:8080/",
          "height": 235
        },
        "id": "8TvEwFbMh0SA",
        "outputId": "b45df324-f33f-4841-cf48-ddb2d07d48ec"
      },
      "execution_count": 42,
      "outputs": [
        {
          "output_type": "error",
          "ename": "IndexError",
          "evalue": "ignored",
          "traceback": [
            "\u001b[0;31m---------------------------------------------------------------------------\u001b[0m",
            "\u001b[0;31mIndexError\u001b[0m                                Traceback (most recent call last)",
            "\u001b[0;32m<ipython-input-42-e850487ed405>\u001b[0m in \u001b[0;36m<cell line: 2>\u001b[0;34m()\u001b[0m\n\u001b[1;32m      2\u001b[0m \u001b[0;32mfor\u001b[0m \u001b[0mi\u001b[0m\u001b[0;34m,\u001b[0m \u001b[0mdata\u001b[0m \u001b[0;32min\u001b[0m \u001b[0menumerate\u001b[0m\u001b[0;34m(\u001b[0m\u001b[0mdata\u001b[0m\u001b[0;34m)\u001b[0m\u001b[0;34m:\u001b[0m\u001b[0;34m\u001b[0m\u001b[0;34m\u001b[0m\u001b[0m\n\u001b[1;32m      3\u001b[0m   temp_dict={\n\u001b[0;32m----> 4\u001b[0;31m       \u001b[0;34m\"Star_name\"\u001b[0m \u001b[0;34m:\u001b[0m \u001b[0mdata\u001b[0m\u001b[0;34m[\u001b[0m\u001b[0;36m1\u001b[0m\u001b[0;34m]\u001b[0m\u001b[0;34m,\u001b[0m\u001b[0;34m\u001b[0m\u001b[0;34m\u001b[0m\u001b[0m\n\u001b[0m\u001b[1;32m      5\u001b[0m       \u001b[0;34m\"Distance\"\u001b[0m \u001b[0;34m:\u001b[0m \u001b[0mdata\u001b[0m\u001b[0;34m[\u001b[0m\u001b[0;36m2\u001b[0m\u001b[0;34m]\u001b[0m\u001b[0;34m,\u001b[0m\u001b[0;34m\u001b[0m\u001b[0;34m\u001b[0m\u001b[0m\n\u001b[1;32m      6\u001b[0m       \u001b[0;34m\"Mass\"\u001b[0m \u001b[0;34m:\u001b[0m \u001b[0mdata\u001b[0m\u001b[0;34m[\u001b[0m\u001b[0;36m3\u001b[0m\u001b[0;34m]\u001b[0m\u001b[0;34m,\u001b[0m\u001b[0;34m\u001b[0m\u001b[0;34m\u001b[0m\u001b[0m\n",
            "\u001b[0;31mIndexError\u001b[0m: string index out of range"
          ]
        }
      ]
    }
  ]
}