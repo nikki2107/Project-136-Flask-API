{
  "nbformat": 4,
  "nbformat_minor": 0,
  "metadata": {
    "colab": {
      "provenance": [],
      "authorship_tag": "ABX9TyNGuLNRCb2T5gbg0KbEa2+T",
      "include_colab_link": true
    },
    "kernelspec": {
      "name": "python3",
      "display_name": "Python 3"
    },
    "language_info": {
      "name": "python"
    }
  },
  "cells": [
    {
      "cell_type": "markdown",
      "metadata": {
        "id": "view-in-github",
        "colab_type": "text"
      },
      "source": [
        "<a href=\"https://colab.research.google.com/github/nikki2107/Project-136-Flask-API/blob/main/New136.ipynb\" target=\"_parent\"><img src=\"https://colab.research.google.com/assets/colab-badge.svg\" alt=\"Open In Colab\"/></a>"
      ]
    },
    {
      "cell_type": "code",
      "execution_count": 45,
      "metadata": {
        "colab": {
          "base_uri": "https://localhost:8080/",
          "height": 73
        },
        "id": "_Wi5jH2Re0dD",
        "outputId": "c3ae30ad-293d-424a-b90f-3494615a8ae5"
      },
      "outputs": [
        {
          "output_type": "display_data",
          "data": {
            "text/plain": [
              "<IPython.core.display.HTML object>"
            ],
            "text/html": [
              "\n",
              "     <input type=\"file\" id=\"files-78bf72a7-654f-4f53-a5f2-946c785f1130\" name=\"files[]\" multiple disabled\n",
              "        style=\"border:none\" />\n",
              "     <output id=\"result-78bf72a7-654f-4f53-a5f2-946c785f1130\">\n",
              "      Upload widget is only available when the cell has been executed in the\n",
              "      current browser session. Please rerun this cell to enable.\n",
              "      </output>\n",
              "      <script>// Copyright 2017 Google LLC\n",
              "//\n",
              "// Licensed under the Apache License, Version 2.0 (the \"License\");\n",
              "// you may not use this file except in compliance with the License.\n",
              "// You may obtain a copy of the License at\n",
              "//\n",
              "//      http://www.apache.org/licenses/LICENSE-2.0\n",
              "//\n",
              "// Unless required by applicable law or agreed to in writing, software\n",
              "// distributed under the License is distributed on an \"AS IS\" BASIS,\n",
              "// WITHOUT WARRANTIES OR CONDITIONS OF ANY KIND, either express or implied.\n",
              "// See the License for the specific language governing permissions and\n",
              "// limitations under the License.\n",
              "\n",
              "/**\n",
              " * @fileoverview Helpers for google.colab Python module.\n",
              " */\n",
              "(function(scope) {\n",
              "function span(text, styleAttributes = {}) {\n",
              "  const element = document.createElement('span');\n",
              "  element.textContent = text;\n",
              "  for (const key of Object.keys(styleAttributes)) {\n",
              "    element.style[key] = styleAttributes[key];\n",
              "  }\n",
              "  return element;\n",
              "}\n",
              "\n",
              "// Max number of bytes which will be uploaded at a time.\n",
              "const MAX_PAYLOAD_SIZE = 100 * 1024;\n",
              "\n",
              "function _uploadFiles(inputId, outputId) {\n",
              "  const steps = uploadFilesStep(inputId, outputId);\n",
              "  const outputElement = document.getElementById(outputId);\n",
              "  // Cache steps on the outputElement to make it available for the next call\n",
              "  // to uploadFilesContinue from Python.\n",
              "  outputElement.steps = steps;\n",
              "\n",
              "  return _uploadFilesContinue(outputId);\n",
              "}\n",
              "\n",
              "// This is roughly an async generator (not supported in the browser yet),\n",
              "// where there are multiple asynchronous steps and the Python side is going\n",
              "// to poll for completion of each step.\n",
              "// This uses a Promise to block the python side on completion of each step,\n",
              "// then passes the result of the previous step as the input to the next step.\n",
              "function _uploadFilesContinue(outputId) {\n",
              "  const outputElement = document.getElementById(outputId);\n",
              "  const steps = outputElement.steps;\n",
              "\n",
              "  const next = steps.next(outputElement.lastPromiseValue);\n",
              "  return Promise.resolve(next.value.promise).then((value) => {\n",
              "    // Cache the last promise value to make it available to the next\n",
              "    // step of the generator.\n",
              "    outputElement.lastPromiseValue = value;\n",
              "    return next.value.response;\n",
              "  });\n",
              "}\n",
              "\n",
              "/**\n",
              " * Generator function which is called between each async step of the upload\n",
              " * process.\n",
              " * @param {string} inputId Element ID of the input file picker element.\n",
              " * @param {string} outputId Element ID of the output display.\n",
              " * @return {!Iterable<!Object>} Iterable of next steps.\n",
              " */\n",
              "function* uploadFilesStep(inputId, outputId) {\n",
              "  const inputElement = document.getElementById(inputId);\n",
              "  inputElement.disabled = false;\n",
              "\n",
              "  const outputElement = document.getElementById(outputId);\n",
              "  outputElement.innerHTML = '';\n",
              "\n",
              "  const pickedPromise = new Promise((resolve) => {\n",
              "    inputElement.addEventListener('change', (e) => {\n",
              "      resolve(e.target.files);\n",
              "    });\n",
              "  });\n",
              "\n",
              "  const cancel = document.createElement('button');\n",
              "  inputElement.parentElement.appendChild(cancel);\n",
              "  cancel.textContent = 'Cancel upload';\n",
              "  const cancelPromise = new Promise((resolve) => {\n",
              "    cancel.onclick = () => {\n",
              "      resolve(null);\n",
              "    };\n",
              "  });\n",
              "\n",
              "  // Wait for the user to pick the files.\n",
              "  const files = yield {\n",
              "    promise: Promise.race([pickedPromise, cancelPromise]),\n",
              "    response: {\n",
              "      action: 'starting',\n",
              "    }\n",
              "  };\n",
              "\n",
              "  cancel.remove();\n",
              "\n",
              "  // Disable the input element since further picks are not allowed.\n",
              "  inputElement.disabled = true;\n",
              "\n",
              "  if (!files) {\n",
              "    return {\n",
              "      response: {\n",
              "        action: 'complete',\n",
              "      }\n",
              "    };\n",
              "  }\n",
              "\n",
              "  for (const file of files) {\n",
              "    const li = document.createElement('li');\n",
              "    li.append(span(file.name, {fontWeight: 'bold'}));\n",
              "    li.append(span(\n",
              "        `(${file.type || 'n/a'}) - ${file.size} bytes, ` +\n",
              "        `last modified: ${\n",
              "            file.lastModifiedDate ? file.lastModifiedDate.toLocaleDateString() :\n",
              "                                    'n/a'} - `));\n",
              "    const percent = span('0% done');\n",
              "    li.appendChild(percent);\n",
              "\n",
              "    outputElement.appendChild(li);\n",
              "\n",
              "    const fileDataPromise = new Promise((resolve) => {\n",
              "      const reader = new FileReader();\n",
              "      reader.onload = (e) => {\n",
              "        resolve(e.target.result);\n",
              "      };\n",
              "      reader.readAsArrayBuffer(file);\n",
              "    });\n",
              "    // Wait for the data to be ready.\n",
              "    let fileData = yield {\n",
              "      promise: fileDataPromise,\n",
              "      response: {\n",
              "        action: 'continue',\n",
              "      }\n",
              "    };\n",
              "\n",
              "    // Use a chunked sending to avoid message size limits. See b/62115660.\n",
              "    let position = 0;\n",
              "    do {\n",
              "      const length = Math.min(fileData.byteLength - position, MAX_PAYLOAD_SIZE);\n",
              "      const chunk = new Uint8Array(fileData, position, length);\n",
              "      position += length;\n",
              "\n",
              "      const base64 = btoa(String.fromCharCode.apply(null, chunk));\n",
              "      yield {\n",
              "        response: {\n",
              "          action: 'append',\n",
              "          file: file.name,\n",
              "          data: base64,\n",
              "        },\n",
              "      };\n",
              "\n",
              "      let percentDone = fileData.byteLength === 0 ?\n",
              "          100 :\n",
              "          Math.round((position / fileData.byteLength) * 100);\n",
              "      percent.textContent = `${percentDone}% done`;\n",
              "\n",
              "    } while (position < fileData.byteLength);\n",
              "  }\n",
              "\n",
              "  // All done.\n",
              "  yield {\n",
              "    response: {\n",
              "      action: 'complete',\n",
              "    }\n",
              "  };\n",
              "}\n",
              "\n",
              "scope.google = scope.google || {};\n",
              "scope.google.colab = scope.google.colab || {};\n",
              "scope.google.colab._files = {\n",
              "  _uploadFiles,\n",
              "  _uploadFilesContinue,\n",
              "};\n",
              "})(self);\n",
              "</script> "
            ]
          },
          "metadata": {}
        },
        {
          "output_type": "stream",
          "name": "stdout",
          "text": [
            "Saving gravity.csv to gravity (1).csv\n"
          ]
        }
      ],
      "source": [
        "from google.colab import files\n",
        "d=files.upload()"
      ]
    },
    {
      "cell_type": "code",
      "source": [
        "import csv\n",
        "import pandas as pd\n",
        "\n",
        "import csv \n",
        "df=[]\n",
        "with open(\"gravity.csv\" , \"r\") as f:\n",
        "  csvreader = csv.reader(f)\n",
        "  for i in csvreader:\n",
        "    df.append(i)\n",
        "headers = df[0]\n",
        "data = df[1:]\n",
        "\n",
        "print(headers)\n"
      ],
      "metadata": {
        "colab": {
          "base_uri": "https://localhost:8080/"
        },
        "id": "m4oSILYkfqLS",
        "outputId": "9cbfbff9-692b-4853-f3d7-004403586501"
      },
      "execution_count": 46,
      "outputs": [
        {
          "output_type": "stream",
          "name": "stdout",
          "text": [
            "['Index', 'Star_name', 'Distance', 'Mass', 'Radius', 'Gravity']\n"
          ]
        }
      ]
    },
    {
      "cell_type": "code",
      "source": [
        "print(data)\n"
      ],
      "metadata": {
        "colab": {
          "base_uri": "https://localhost:8080/"
        },
        "id": "f-EB0zvOikpB",
        "outputId": "51de3586-cf47-4474-91f8-a180aec159e0"
      },
      "execution_count": 47,
      "outputs": [
        {
          "output_type": "stream",
          "name": "stdout",
          "text": [
            "[['0', 'Sun', '1.58E-05', '1.99E+30', '695700000', '274.1047808'], ['1', 'Sirius', '8.6', '4.18E+30', '1189647000', '196.8537463'], ['2', 'Canopus', '310', '2.98E+31', '49394700000', '0.8156262074'], ['3', 'Alpha Centauri', '4.4', '2.19E+30', '834840000', '209.3855964'], ['4', 'Arcturus', '37', '2.19E+30', '18088200000', '0.4460284894'], ['5', 'Vega', '25', '4.38E+30', '1878390000', '82.72023563'], ['6', 'Capella', '43', '5.17E+30', '8348400000', '4.949114097'], ['7', 'Rigel', '860', '4.57E+31', '54890730000', '1.012722456'], ['8', 'Procyon', '11.4', '2.98E+30', '1321830000', '113.8939532'], ['10', 'Achernar', '144', '1.33E+31', '6470010000', '21.23369212'], ['11', 'Hadar', '390', '2.09E+31', '5983020000', '38.91428067'], ['12', 'Altair', '17', '3.58E+30', '1252260000', '152.2804338'], ['13', 'Acrux', '320', '3.58E+31', '6191730000', '62.28867635'], ['14', 'Aldebaran', '65', '2.98E+30', '30610800000', '0.2123745719'], ['15', 'Antares', '600', '2.39E+31', '473076000000', '0.007113445868'], ['16', 'Spica', '260', '2.27E+31', '5196879000', '56.14636403'], ['17', 'Pollux', '34', '3.78E+30', '6122160000', '6.725194776'], ['18', 'Fomalhaut', '25', '3.78E+30', '1252260000', '160.7404579'], ['20', 'Mimosa', '350', '3.18E+31', '5843880000', '62.15527909'], ['21', 'Regulus', '77', '7.56E+30', '2156670000', '108.386906'], ['22', 'Adhara', '430', '2.49E+31', '9739800000', '17.48117224'], ['23', 'Shaula', '700', '2.88E+31', '6122160000', '51.32385487'], ['24', 'Castor', '52', '5.57E+30', '1669680000', '133.2453795'], ['25', 'Gacrux', '88', '2.98E+30', '58438800000', '0.05827057415'], ['26', 'Bellatrix', '240', '1.71E+31', '4035060000', '70.07434943'], ['27', 'Elnath', '130', '9.95E+30', '2921940000', '77.69409886'], ['28', 'Miaplacidus', '110', '6.96E+30', '4730760000', '20.74755045'], ['31', 'Alnair', '101', '7.96E+30', '2365380000', '94.84594491'], ['32', 'Alioth', '81', '5.77E+30', '2921940000', '45.06257734'], ['33', 'Alnitak', '1050', '6.56E+31', '13914000000', '22.61364441'], ['34', 'Dubhe', '120', '8.45E+30', '20871000000', '1.294383687'], ['35', 'Mirfak', '590', '1.69E+31', '47307600000', '0.5038690823'], ['37', 'Sargas', '270', '1.13E+31', '18088200000', '2.311238536'], ['38', 'Kaus Australis', '140', '6.96E+30', '4730760000', '20.74755045'], ['39', 'Avior', '630', '1.79E+31', '90441000000', '0.1459729602'], ['40', 'Alkaid', '104', '1.21E+31', '2365380000', '144.640066'], ['41', 'Menkalinan', '81', '4.75E+30', '1927089000', '85.37976854'], ['42', 'Atria', '390', '1.39E+31', '64004400000', '0.2266934624'], ['43', 'Alhena', '109', '5.57E+30', '2295810000', '70.47689497'], ['44', 'Peacock', '180', '1.17E+31', '3339360000', '70.19176244'], ['45', 'Alsephina[2]', '80', '4.77E+30', '2017530000', '78.22252959'], ['46', 'Mirzam', '500', '2.69E+31', '6957000000', '37.00414541'], ['47', 'Polaris', '430', '1.07E+31', '27132300000', '0.9731530679'], ['48', 'Alphard', '180', '5.97E+30', '34785000000', '0.3289257369'], ['49', 'Mintaka', '1200', '4.77E+31', '11479050000', '24.16350685'], ['50', 'Scheat', '196', '4.18E+30', '66091500000', '0.06378061381'], ['51', 'Almaaz', '653', '2.98E+31', '97398000000', '0.2097740669'], ['52', 'Rasalgethi', '360', '5.57E+30', '194796000000', '0.009789456456'], ['53', 'Tau Ceti', '11.9', '1.56E+30', '621260100', '269.1382688'], ['54', 'Delta Pavonis', '19.92', '1.97E+30', '848754000', '182.5032503'], ['55', 'Ran', '10.48', '1.63E+30', '514818000', '410.456392'], ['58', 'Delta Cephei', '887', '8.95E+30', '30958650000', '0.6228867635'], ['60', 'Titawin', '44.25', '2.53E+30', '1029636000', '158.9267127'], ['64', '61 Cygni', '11.41', '1.39E+30', '462640500', '433.8817266'], ['66', 'Polaris Australis', '281', '3.16E+30', '2601918000', '31.15806868'], ['68', '54 Piscium', '36.1', '1.51E+30', '653958000', '235.7623737'], ['69', 'Mira', '300', '2.39E+30', '257409000000', '0.002402671563'], ['71', 'Lacaille 8760', '12.87', '1.19E+30', '354807000', '632.3062994'], ['74', 'II Pegasi', '130', '1.59E+30', '2365380000', '18.96918898'], ['79', \"Barnard's Star\", '5.98', '2.78E+29', '139140000', '959.3667327'], ['81', 'Proxima Centauri', '4.25', '2.39E+29', '104355000', '1461.892164'], ['88', 'Gliese 1214', '47.5', '3.18E+29', '146097000', '994.4844654'], ['90', 'VB 10', '18.72', '1.49E+29', '69570000', '2055.785856'], ['92', 'TRAPPIST-1', '39.6', '1.77E+29', '83484000', '1694.119826'], ['93', '2MASS J0523-1403', '40.3', '1.39E+29', '59830200', '2594.285378'], ['96', 'SDSS J000013.54+255418.6\\xa0[de]', '46.1', '9.55E+31', '688743000', '13424.17047'], ['97', '2MASS J00040288-6410358', '192', '3.78E+31', '1133991000', '1960.175707'], ['98', '2MASS J00242463-0158201', '37.7', '1.57E+32', '758313000', '18225.97229'], ['99', '2MASS J00274197+0503417', '236', '6.17E+31', '1001808000', '4097.824173'], ['100', '2MASSW J0030300-145033', '87.2', '1.07E+32', '681786000', '15411.97226'], ['101', '2MASS J00332386-1521309\\xa0[de]', '131', '5.77E+31', '994851000', '3887.250547'], ['102', '2MASS J00345157+0523050', '31', '8.35E+31', '653958000', '13028.97328'], ['103', '2MASS 0036+1821', '28.6', '8.35E+31', '653958000', '13028.97328'], ['104', '2MASSW J0045214+163445', '57', '4.57E+31', '1127034000', '2402.229065'], ['105', 'WISEP J004701.06+680352.1\\xa0[fr]', '40', '2.39E+31', '904410000', '1946.306136'], ['106', '2MASS J00501994-3322402\\xa0[de]', '34', '7.96E+31', '653958000', '12408.54598'], ['107', '2MASS J00584253-0651239\\xa0[de]', '96', '5.77E+31', '994851000', '3887.250547'], ['108', '2MASSI J0103320+193536', '70', '1.03E+32', '681786000', '14841.15848'], ['109', 'SDSSp J010752.33+004156.1\\xa0[de]', '51', '1.03E+32', '681786000', '14841.15848'], ['110', '2MASSI J0117474-340325\\xa0[de]', '163', '3.98E+31', '1127034000', '2088.894839'], ['111', '2MASS J01415823-4633574\\xa0[de]', '130', '3.98E+31', '1120077000', '2114.92443'], ['112', 'SDSS J015141.69+124429.6', '70', '9.35E+31', '674829000', '13692.12955'], ['113', 'SDSS J020742.48+000056.2\\xa0[de]', '111', '9.35E+31', '674829000', '13692.12955'], ['114', '2MASS J02103857-3015313', '101', '2.98E+31', '1064421000', '1756.406387'], ['115', '2MASS J02340093-6442068', '155', '3.98E+31', '1127034000', '2088.894839'], ['116', '2MASS J02411151-0326587\\xa0[de]', '152', '5.37E+31', '980937000', '3722.563795'], ['117', '2MASS J02431371−2453298', '35', '6.56E+31', '688743000', '9229.117198'], ['118', 'LP 771-21', '53', '1.55E+32', '751356000', '18330.05221'], ['119', \"Teegarden's star\", '12.578', '1.59E+32', '883539000', '13595.62432'], ['120', '2MASS J02535980+3206373', '184', '1.29E+32', '1321830000', '4935.40464'], ['121', 'WISE J0254+0223', '24', '1.29E+32', '1321830000', '4935.40464'], ['122', 'DEN 0255-4700', '16.2', '1.59E+32', '674829000', '23305.75243'], ['123', '2MASS J03185403-3421292\\xa0[de]', '45', '9.75E+31', '674829000', '14274.77336'], ['124', '2MASS J03205965+1854233', '47', '1.75E+32', '800055000', '18239.10829'], ['125', '2MASS J03231002-4631237', '192', '4.57E+31', '1154862000', '2287.85381'], ['126', 'SDSS J032553.17+042540.1', '59', '8.95E+31', '660915000', '13667.27439'], ['127', '2MASS J03264225-2102057\\xa0[de]', '80', '3.58E+31', '904410000', '2919.459204'], ['128', '2MASS J03284265+2302051\\xa0[de]', '98', '1.07E+32', '681786000', '15411.97226'], ['129', '2MASS J03341218-4953322', '27', '1.45E+32', '723528000', '18500.0453'], ['130', 'LP 944-20', '20.9', '1.45E+32', '994851000', '9785.147928'], ['131', '2MASP J0345432+254023', '88', '1.47E+32', '730485000', '18397.96261'], ['132', 'Teide 1', '380', '1.09E+32', '2629746000', '1055.105046'], ['133', '2MASS J03510004-0052452', '48', '2.03E+32', '883539000', '17334.42101'], ['134', '2MASS J03552337+1133437', '29.8', '3.98E+31', '918324000', '3146.289954'], ['135', '2MASS J04151954−0935066', '18.6', '5.97E+31', '660915000', '9111.516259'], ['136', '2MASS J04285096-2253227\\xa0[de]', '85', '1.59E+32', '758313000', '18456.6808'], ['137', '2MASS J04351612-1606574', '34', '1.99E+32', '876582000', '17265.3553'], ['138', '2MASS J04362788-4114465', '142', '7.76E+31', '1370529000', '2754.537981'], ['139', '2MASS J04390101-2353083\\xa0[de]', '29.5', '9.55E+31', '674829000', '13983.45146'], ['140', '2MASS J04433764+0002040', '82', '4.38E+31', '1238346000', '1903.265111'], ['141', '2MASS J04455387-3048204\\xa0[de]', '42', '1.27E+32', '695700000', '17542.70597'], ['142', '2MASS J04510093-3402150\\xa0[de]', '69', '1.43E+32', '723528000', '18246.62002'], ['143', '2MASS J05002100+0330501\\xa0[de]', '44', '1.27E+32', '695700000', '17542.70597'], ['144', '2MASS J05012406-0010452\\xa0[de]', '64', '4.18E+31', '960066000', '3022.579498'], ['145', '2MASS J05160945-0445499\\xa0[de]', '73', '9.35E+31', '674829000', '13692.12955'], ['146', '2MASS J0523−1403', '40', '1.35E+32', '702657000', '18271.86069'], ['147', 'SDSS J053951.99-005902.0', '41.62', '1.21E+32', '702657000', '16390.93386'], ['148', 'LSR 0602+3910\\xa0[de]', '34.6', '5.57E+31', '980937000', '3860.436528'], ['149', '2MASS J06085283-2753583', '102', '7.56E+31', '1050507000', '4568.212653'], ['150', '2MASS J06244595-4521548\\xa0[de]', '39', '1.11E+32', '688743000', '15661.53221'], ['151', '2MASS J06411840-4322329\\xa0[de]', '65', '1.33E+32', '702657000', '18003.15686'], ['152', 'DENIS-P J0652197-253450\\xa0[de]', '51', '1.49E+32', '730485000', '18646.58373'], ['153', '2MASS J07075327-4900503', '60', '1.43E+32', '716571000', '18602.64324'], ['154', 'UGPS J072227.51-054031.2', '13.4', '5.17E+31', '681786000', '7420.579238'], ['155', '2MASSI J0727182+171001\\xa0[de]', '29.6', '8.15E+31', '653958000', '12718.75963'], ['156', '2MASS J07290002-3954043\\xa0[de]', '25.8', '7.36E+31', '653958000', '11477.90503'], ['157', 'SDSS J074201.41+205520.5\\xa0[de]', '49', '8.55E+31', '653958000', '13339.18693'], ['158', 'DENIS-P J0751164-253043\\xa0[de]', '55', '1.41E+32', '716571000', '18344.2732'], ['159', '2MASS J07522390+1612157', '60', '1.35E+32', '1398357000', '4613.530629'], ['160', 'DENIS J081730.0-615520', '16.1', '8.75E+31', '653958000', '13649.40058'], ['161', '2MASS J08251968+2115521\\xa0[de]', '35', '1.03E+32', '681786000', '14841.15848'], ['162', 'SDSSp J083008.12+482847.4\\xa0[de]', '43', '9.55E+31', '688743000', '13424.17047'], ['163', 'LHS 2021', '55', '1.75E+32', '800055000', '18239.10829'], ['164', 'SDSS J083048.80+012831.1\\xa0[de]', '77', '9.15E+31', '667872000', '13681.44522'], ['165', '2MASSI J0835425-081923\\xa0[de]', '23.53', '1.23E+32', '695700000', '16994.49641'], ['166', '2MASSI J0847287-153237\\xa0[de]', '43', '1.27E+32', '695700000', '17542.70597'], ['167', '2MASS J08533619-0329321', '27.6', '1.53E+32', '744399000', '18434.8573'], ['168', '2MASSI J0859254-194926\\xa0[de]', '50', '9.95E+31', '681786000', '14270.34469'], ['169', '2MASSI J0937347+293142', '20', '8.35E+31', '653958000', '13028.97328'], ['170', '2MASS 0939−2448', '17.4', '6.36E+31', '660915000', '9718.950676'], ['171', '2MASS J09490860-1545485\\xa0[de]', '59', '9.75E+31', '667872000', '14573.71339'], ['172', '2MASS J10073369-4555147', '46', '8.75E+31', '653958000', '13649.40058'], ['173', '2MASSI J1010148-040649\\xa0[de]', '55', '1.01E+32', '681786000', '14555.75158'], ['174', '2MASS J10224821+5825453\\xa0[de]', '60', '5.37E+31', '980937000', '3722.563795'], ['175', '2MASSW J1036530-344138\\xa0[de]', '53', '9.75E+31', '674829000', '14274.77336'], ['176', '2MASS J1047538+212423\\xa0[de]', '34.4', '8.35E+31', '653958000', '13028.97328'], ['177', 'DEN 1048-3956', '13.15', '1.53E+32', '744399000', '18434.8573'], ['178', 'Luhman 16B', '6.516', '8.55E+31', '709614000', '11328.8212'], ['179', 'Luhman 16A', '6.516', '7.96E+31', '702657000', '10748.15335'], ['180', 'DENIS-P J1058.7−1548', '49', '1.27E+32', '695700000', '17542.70597'], ['181', 'TWA 28', '180', '7.16E+31', '1662723000', '1727.520896'], ['182', 'Cha 110913-773444', '163', '1.59E+31', '1252260000', '676.8019279'], ['183', 'SDSS J111010.01+011613.1', '63', '1.79E+31', '862668000', '1604.411438'], ['184', '2MASS J11145133−2618235', '18.2', '6.56E+31', '667872000', '9814.949833'], ['185', 'TWA 26', '137', '5.97E+31', '1530540000', '1698.996575'], ['186', '2MASS J11544223-3400390\\xa0[de]', '129', '7.36E+31', '1043550000', '4507.50084'], ['187', '2MASSW J1155395-372735\\xa0[de]', '31', '1.27E+32', '695700000', '17542.70597'], ['188', '2MASS J12074836-3900043', '217', '3.38E+31', '1189647000', '1593.577946'], ['189', '2MASSI J1217110-031113\\xa0[de]', '36', '8.35E+31', '653958000', '13028.97328'], ['190', '2M 1237+6526', '45.6', '8.15E+31', '653958000', '12718.75963'], ['191', 'TWA 29', '262', '4.97E+31', '1391400000', '1713.15488'], ['192', 'SDSSp J125453.90-012247.4\\xa0[de]', '38', '9.35E+31', '681786000', '13414.12401'], ['193', 'Kelu-1A', '61', '1.25E+32', '681786000', '17980.63431'], ['194', 'Kelu-1B', '61', '1.15E+32', '681786000', '16553.59984'], ['195', '2MASS J13204427+0409045', '101', '1.33E+32', '702657000', '18003.15686'], ['196', 'SDSSp J132629.82-003831.5\\xa0[de]', '65', '1.01E+32', '674829000', '14857.41717'], ['197', 'SDSSp J134646.45-003150.4\\xa0[de]', '48', '8.75E+31', '653958000', '13649.40058'], ['198', '2MASS J13595510-4034582', '51', '1.25E+32', '695700000', '17268.60119'], ['199', 'ULAS J141623.94+134836.3', '29.7', '6.36E+31', '667872000', '9517.52711'], ['200', 'SDSS J141659.78+500626.4\\xa0[de]', '149', '1.17E+32', '688743000', '16500.54287'], ['201', 'DENIS-P J142527.97-365023.4\\xa0[de]', '38', '4.18E+31', '918324000', '3303.604452'], ['202', 'LHS 2924', '38.5', '1.51E+32', '737442000', '18540.37321'], ['203', '2MASS J14392837+1929150', '47', '1.43E+32', '716571000', '18602.64324'], ['204', 'LSPM J1440+1339', '72', '1.83E+32', '827883000', '17807.81006'], ['205', '2MASS J14482563+1031590\\xa0[de]', '47', '1.17E+32', '688743000', '16500.54287'], ['206', 'CFBDSIR 1458+10A', '104', '2.21E+31', '1043550000', '1352.250252'], ['207', 'CFBDSIR 1458+10B', '104', '1.79E+31', '904410000', '1459.729602'], ['208', 'TVLM 513-46546', '35.1', '1.49E+32', '730485000', '18646.58373'], ['209', '2MASS 1503+2525', '20.7', '8.75E+31', '653958000', '13649.40058'], ['210', 'CFBDS J150411+102717', '71', '8.75E+31', '653958000', '13649.40058'], ['211', '2MASSW J1506544+132106\\xa0[de]', '46', '1.37E+32', '709614000', '18178.80611'], ['212', '2MASS 1507−1627', '23.9', '1.19E+32', '688743000', '16780.21309'], ['213', 'TVLM 868-110639', '53', '1.57E+32', '751356000', '18565.05288'], ['214', '2MASSW J1515008+484742\\xa0[de]', '34', '1.13E+32', '688743000', '15941.20243'], ['215', '2MASSI J1526140+204341\\xa0[de]', '67', '1.07E+32', '681786000', '15411.97226'], ['216', 'DENIS-P J153941.96-052042.4\\xa0[de]', '51', '1.25E+32', '695700000', '17268.60119'], ['217', '2MASS J15462718-3325111\\xa0[de]', '37', '8.75E+31', '653958000', '13649.40058'], ['218', '2MASSW J1552591+294849\\xa0[de]', '68', '5.97E+31', '994851000', '4021.293669'], ['219', '2MASSW J1555157-095605\\xa0[de]', '44', '1.41E+32', '716571000', '18344.2732'], ['220', '2MASS J16150413+1340079\\xa0[de]', '48', '8.35E+31', '653958000', '13028.97328'], ['221', 'SDSSp J162414.37+002915.6\\xa0[de]', '36', '8.55E+31', '653958000', '13339.18693'], ['222', '2MASS J16262034+3925190\\xa0[de]', '110', '1.41E+32', '716571000', '18344.2732'], ['223', '2MASSW J1632291+190441\\xa0[de]', '50', '9.75E+31', '674829000', '14274.77336'], ['224', 'WISEPA J164715.59+563208.2', '28', '8.15E+31', '653958000', '12718.75963'], ['225', 'LSPM J1658+7027\\xa0[de]', '60', '1.45E+32', '723528000', '18500.0453'], ['226', '2MASSI J1726000+153819', '114', '4.77E+31', '973980000', '3356.385071'], ['227', 'SDSSp J175032.96+175903.9', '90', '9.35E+31', '674829000', '13692.12955'], ['228', '2MASS J18283572-4849046', '39', '8.95E+31', '660915000', '13667.27439'], ['229', 'LSR J1835+3259', '18.5', '1.53E+32', '744399000', '18434.8573'], ['230', '2MASSW J1841086+311727', '138', '1.33E+32', '702657000', '18003.15686'], ['231', '2MASS J18432213+4040209', '46', '1.91E+32', '848754000', '17679.42687'], ['232', '2MASS J20004841-7523070', '105', '4.97E+31', '1307916000', '1938.83531'], ['233', 'SDSS J204749.61-071818.3', '65', '9.15E+31', '667872000', '13681.44522'], ['234', '2MASSI J2057540-025230', '47', '1.39E+32', '709614000', '18442.26707'], ['235', '2MASSI J2104149-103736', '62', '1.37E+32', '709614000', '18178.80611'], ['236', 'PSO J318.5−22', '80', '1.29E+31', '1064421000', '761.1094344'], ['237', 'HB 2124-4228', '113', '1.87E+32', '841797000', '17598.42182'], ['238', '2MASS J21392676+0220226', '32.1', '9.15E+31', '667872000', '13681.44522'], ['239', '2MASS J21481628+4003593', '26.3', '1.09E+32', '688743000', '15381.862'], ['240', '2MASSW J2206450-421721', '93', '4.38E+31', '925281000', '3409.070709'], ['241', '2MASSW J2208136+292121', '154', '5.37E+31', '980937000', '3722.563795'], ['242', '2MASSW J2224438-015852', '38', '1.21E+32', '688743000', '17059.88331'], ['243', '2MASS J22282889-4310262', '35', '8.35E+31', '653958000', '13028.97328'], ['244', '2MASS J22373255+3922398', '64', '1.45E+32', '723528000', '18500.0453'], ['245', '2MASSW J2244316+204343', '56', '2.39E+31', '897453000', '1976.598383'], ['246', '2MASS J23224684-3133231', '56', '4.77E+31', '967023000', '3404.852098'], ['247', '2MASS J23225299-6151275', '148', '3.38E+31', '1106163000', '1843.194998'], ['248', '2MASS J23515044-2537367', '67', '1.75E+32', '807012000', '17925.99637'], ['249', '2MASSI J2356547-155310', '74', '1.59E+32', '758313000', '18456.6808'], ['250', 'WISE 0410+1502', '20', '1.19E+31', '813969000', '1201.423541'], ['251', 'WISE 0458+6434A', '35.9', '2.98E+31', '2921940000', '233.0822966'], ['252', 'WISE 0458+6434B', '35.9', '1.99E+31', '2643660000', '189.8232554'], ['253', 'WISE 1405+5534', '25.3', '5.97E+31', '598302000', '11118.36591']]\n"
          ]
        }
      ]
    },
    {
      "cell_type": "code",
      "source": [
        "Star_name = data[1]\n",
        "Distance = data[2]\n",
        "Mass = data[3]\n",
        "Radius = data[4]"
      ],
      "metadata": {
        "id": "fq3Z_61M1BNg"
      },
      "execution_count": 48,
      "outputs": []
    },
    {
      "cell_type": "code",
      "source": [
        "final_dict = {}\n",
        "for i, data in enumerate(data):\n",
        "  features_list=[]\n",
        "  \n",
        "  features_list.append(\"Name\")\n",
        "  \n",
        "  features_list.append(\"Distance\")\n",
        "  \n",
        "  features_list.append(\"Mass\")\n",
        "  \n",
        "  features_list.append(\"Radius\")\n",
        "final_dict[data[1]] = features_list\n",
        "print(final_dict)\n"
      ],
      "metadata": {
        "colab": {
          "base_uri": "https://localhost:8080/"
        },
        "id": "mI2RidzHpQ8P",
        "outputId": "b645a21c-fb44-44b0-aef1-464a7a7592ae"
      },
      "execution_count": 49,
      "outputs": [
        {
          "output_type": "stream",
          "name": "stdout",
          "text": [
            "{'WISE 1405+5534': ['Name', 'Distance', 'Mass', 'Radius']}\n"
          ]
        }
      ]
    },
    {
      "cell_type": "code",
      "source": [
        "final_star_list = []\n",
        "for i, data in enumerate(data):\n",
        "  temp_dict={\n",
        "      \"Star_name\" : data[1],\n",
        "      \"Distance\" : data[2],\n",
        "      \"Mass\" : data[3],\n",
        "      \"Radius\" : data[4]\n",
        "  }\n",
        "final_star_list.append(temp_dict)\n",
        "\n",
        "print(final_star_list)"
      ],
      "metadata": {
        "colab": {
          "base_uri": "https://localhost:8080/",
          "height": 235
        },
        "id": "8TvEwFbMh0SA",
        "outputId": "a575c317-100c-4848-839e-6cbf4ae3bb12"
      },
      "execution_count": 50,
      "outputs": [
        {
          "output_type": "error",
          "ename": "IndexError",
          "evalue": "ignored",
          "traceback": [
            "\u001b[0;31m---------------------------------------------------------------------------\u001b[0m",
            "\u001b[0;31mIndexError\u001b[0m                                Traceback (most recent call last)",
            "\u001b[0;32m<ipython-input-50-e850487ed405>\u001b[0m in \u001b[0;36m<cell line: 2>\u001b[0;34m()\u001b[0m\n\u001b[1;32m      4\u001b[0m       \u001b[0;34m\"Star_name\"\u001b[0m \u001b[0;34m:\u001b[0m \u001b[0mdata\u001b[0m\u001b[0;34m[\u001b[0m\u001b[0;36m1\u001b[0m\u001b[0;34m]\u001b[0m\u001b[0;34m,\u001b[0m\u001b[0;34m\u001b[0m\u001b[0;34m\u001b[0m\u001b[0m\n\u001b[1;32m      5\u001b[0m       \u001b[0;34m\"Distance\"\u001b[0m \u001b[0;34m:\u001b[0m \u001b[0mdata\u001b[0m\u001b[0;34m[\u001b[0m\u001b[0;36m2\u001b[0m\u001b[0;34m]\u001b[0m\u001b[0;34m,\u001b[0m\u001b[0;34m\u001b[0m\u001b[0;34m\u001b[0m\u001b[0m\n\u001b[0;32m----> 6\u001b[0;31m       \u001b[0;34m\"Mass\"\u001b[0m \u001b[0;34m:\u001b[0m \u001b[0mdata\u001b[0m\u001b[0;34m[\u001b[0m\u001b[0;36m3\u001b[0m\u001b[0;34m]\u001b[0m\u001b[0;34m,\u001b[0m\u001b[0;34m\u001b[0m\u001b[0;34m\u001b[0m\u001b[0m\n\u001b[0m\u001b[1;32m      7\u001b[0m       \u001b[0;34m\"Radius\"\u001b[0m \u001b[0;34m:\u001b[0m \u001b[0mdata\u001b[0m\u001b[0;34m[\u001b[0m\u001b[0;36m4\u001b[0m\u001b[0;34m]\u001b[0m\u001b[0;34m\u001b[0m\u001b[0;34m\u001b[0m\u001b[0m\n\u001b[1;32m      8\u001b[0m   }\n",
            "\u001b[0;31mIndexError\u001b[0m: string index out of range"
          ]
        }
      ]
    }
  ]
}